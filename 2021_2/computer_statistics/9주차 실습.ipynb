{
 "cells": [
  {
   "cell_type": "markdown",
   "id": "deed9e64",
   "metadata": {},
   "source": [
    "**Situation**\n",
    "한 과일 통조림의 라벨에는 평균 무게가 360g으로 표기되어 있다. 이를 확인하기 위해 30개의 통조림을 무작위로 추출한 후, 무게를 재었더니 평균이 356g 이고, 분산은 100이었다. 유의수준 5%에서 이 통조림의 평균 무게가 라벨과 같은 지를 검정하여라."
   ]
  },
  {
   "cell_type": "code",
   "execution_count": 1,
   "id": "f4521a12",
   "metadata": {},
   "outputs": [],
   "source": [
    "# 1. 모듈 호출\n",
    "import numpy as np\n",
    "import pandas as pd\n",
    "from scipy import stats\n",
    "from matplotlib import pyplot as plt\n"
   ]
  },
  {
   "cell_type": "code",
   "execution_count": 2,
   "id": "3cb3b66d",
   "metadata": {},
   "outputs": [
    {
     "name": "stdout",
     "output_type": "stream",
     "text": [
      "HO: the mean is 360\n",
      "H1: the mean is not 360\n"
     ]
    }
   ],
   "source": [
    "# 2. 가설 설정\n",
    "print(\"HO: the mean is 360\")\n",
    "print(\"H1: the mean is not 360\")"
   ]
  },
  {
   "cell_type": "code",
   "execution_count": 3,
   "id": "109d18bf",
   "metadata": {},
   "outputs": [
    {
     "name": "stdout",
     "output_type": "stream",
     "text": [
      "T:  -2.191\n"
     ]
    }
   ],
   "source": [
    "# 3. 검정 통계량\n",
    "pop_mean0 = 360\n",
    "\n",
    "n = 30\n",
    "sample_mean = 356\n",
    "sample_std = np.sqrt(100)\n",
    "alpha = 0.05\n",
    "\n",
    "T = (sample_mean - pop_mean0) / (sample_std/np.sqrt(n))\n",
    "print(\"T: \", np.round(T, 3))"
   ]
  },
  {
   "cell_type": "code",
   "execution_count": 4,
   "id": "2dd51eac",
   "metadata": {},
   "outputs": [
    {
     "data": {
      "text/plain": [
       "Text(0.5, 1.0, 't-distribution : df = 10')"
      ]
     },
     "execution_count": 4,
     "metadata": {},
     "output_type": "execute_result"
    },
    {
     "data": {
      "image/png": "[encoded data removed]",
      "text/plain": [
       "<Figure size 432x288 with 1 Axes>"
      ]
     },
     "metadata": {
      "needs_background": "light"
     },
     "output_type": "display_data"
    }
   ],
   "source": [
    "# 4. T분포 형태\n",
    "x = np.linspace(-5, 5, 100)\n",
    "y = stats.t(10).pdf(x)\n",
    "y1 = stats.norm.pdf(x)\n",
    "\n",
    "plt.plot(x, y, color=\"red\")\n",
    "plt.plot(x, y1, color=\"blue\")\n",
    "plt.xlabel(\"t\")\n",
    "plt.title(\"t-distribution : df = 10\")"
   ]
  },
  {
   "cell_type": "code",
   "execution_count": 5,
   "id": "cd169bcf",
   "metadata": {},
   "outputs": [
    {
     "name": "stdout",
     "output_type": "stream",
     "text": [
      "critical values are -2.045 and 2.045\n"
     ]
    }
   ],
   "source": [
    "# 5. 임계치 구하기\n",
    "dist_t = stats.t(29)\n",
    "\n",
    "ll = dist_t.ppf(alpha/2)\n",
    "ul = dist_t.ppf(1-(alpha/2))\n",
    "\n",
    "print(\"critical values are {} and {}\".format(np.round(ll,3), np.round(ul,3)))"
   ]
  },
  {
   "cell_type": "code",
   "execution_count": 6,
   "id": "ab57a20d",
   "metadata": {},
   "outputs": [
    {
     "name": "stdout",
     "output_type": "stream",
     "text": [
      "Result: we can reject H0\n"
     ]
    }
   ],
   "source": [
    "# 6. 결정\n",
    "if (np.abs(T) > ul):\n",
    "    print(\"Result: we can reject H0\")\n",
    "else:\n",
    "    print(\"Result: we accept H0\")"
   ]
  },
  {
   "cell_type": "code",
   "execution_count": 7,
   "id": "8b0a2a4c",
   "metadata": {},
   "outputs": [
    {
     "name": "stdout",
     "output_type": "stream",
     "text": [
      "Effect size: 0.4, small effect\n"
     ]
    }
   ],
   "source": [
    "# 7. 효과 크기\n",
    "cohen = np.abs(sample_mean - pop_mean0)/sample_std\n",
    "\n",
    "if (cohen >= 1.3):\n",
    "    print(\"Effect size: \"+str(cohen) + \", Huge effect\")\n",
    "elif (cohen >= 0.8):\n",
    "    print(\"Effect size: \"+str(cohen) + \", Large effect\")\n",
    "elif (cohen >= 0.5):\n",
    "    print(\"Effect size: \"+str(cohen) + \", Medium effect\")\n",
    "elif (cohen >= 0.2):\n",
    "    print(\"Effect size: \"+str(cohen) + \", small effect\")\n",
    "else:\n",
    "    print(\"Effect size: \"+str(cohen))"
   ]
  },
  {
   "cell_type": "code",
   "execution_count": 8,
   "id": "20fbe855",
   "metadata": {},
   "outputs": [
    {
     "data": {
      "text/plain": [
       "Ttest_1sampResult(statistic=0.20488779977039293, pvalue=0.8434900965628593)"
      ]
     },
     "execution_count": 8,
     "metadata": {},
     "output_type": "execute_result"
    }
   ],
   "source": [
    "from scipy.stats import ttest_1samp\n",
    "\n",
    "samp_data = [356, 370, 360, 366, 345, 340, 369, 382]\n",
    "ttest_1samp(samp_data, popmean = pop_mean0)"
   ]
  },
  {
   "cell_type": "code",
   "execution_count": null,
   "id": "700bc1a3",
   "metadata": {},
   "outputs": [],
   "source": []
  }
 ],
 "metadata": {
  "kernelspec": {
   "display_name": "Python 3",
   "language": "python",
   "name": "python3"
  },
  "language_info": {
   "codemirror_mode": {
    "name": "ipython",
    "version": 3
   },
   "file_extension": ".py",
   "mimetype": "text/x-python",
   "name": "python",
   "nbconvert_exporter": "python",
   "pygments_lexer": "ipython3",
   "version": "3.8.8"
  }
 },
 "nbformat": 4,
 "nbformat_minor": 5
}
