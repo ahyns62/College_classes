{
 "cells": [
  {
   "cell_type": "markdown",
   "id": "2a945cb7",
   "metadata": {},
   "source": [
    "**Situation - Unpaired t-test** \n",
    "두 개의 학급으로부터 아래와 같은 점수를 얻었다고 하자.\n",
    "두 학급의 평균이 다른 지를 유의수준 5%에서 검정하시오."
   ]
  },
  {
   "cell_type": "code",
   "execution_count": 1,
   "id": "23209ab0",
   "metadata": {},
   "outputs": [],
   "source": [
    "import numpy as np\n",
    "import pandas as pd\n",
    "from scipy import stats\n",
    "from matplotlib import pyplot as plt"
   ]
  },
  {
   "cell_type": "code",
   "execution_count": 2,
   "id": "a5b22388",
   "metadata": {},
   "outputs": [
    {
     "name": "stdout",
     "output_type": "stream",
     "text": [
      "H0: The means of the two groups are the same\n",
      "H1: The means of the two groups are different\n"
     ]
    }
   ],
   "source": [
    "# 1. 가설 설정\n",
    "print(\"H0: The means of the two groups are the same\")\n",
    "print(\"H1: The means of the two groups are different\")"
   ]
  },
  {
   "cell_type": "code",
   "execution_count": 3,
   "id": "846c3b0f",
   "metadata": {},
   "outputs": [],
   "source": [
    "# 2. 데이터 입력\n",
    "A = np.array([5, 8, 9, 8, 7, 7, 2])\n",
    "B = np.array([9, 6, 5, 4, 8])"
   ]
  },
  {
   "cell_type": "code",
   "execution_count": 4,
   "id": "fda43b34",
   "metadata": {},
   "outputs": [
    {
     "name": "stdout",
     "output_type": "stream",
     "text": [
      "Vp : 5.0914\n"
     ]
    }
   ],
   "source": [
    "# 3. 합동분산추정량 계산\n",
    "pop_mean = 0\n",
    "alpha = 0.05\n",
    "\n",
    "A_mean = np.mean(A)\n",
    "A_std = np.std(A, ddof=1)\n",
    "A_n = len(A)\n",
    "\n",
    "B_mean = np.mean(B)\n",
    "B_std = np.std(B, ddof=1)\n",
    "B_n = len(B)\n",
    "\n",
    "var_pool = ((A_n - 1)*(A_std)**2 + (B_n - 1)*(B_std)**2) / (A_n + B_n - 2)\n",
    "\n",
    "print(\"Vp :\", round(var_pool, 4))"
   ]
  },
  {
   "cell_type": "code",
   "execution_count": 5,
   "id": "9b0f11b1",
   "metadata": {},
   "outputs": [
    {
     "name": "stdout",
     "output_type": "stream",
     "text": [
      "Test statistic : 0.1297\n"
     ]
    }
   ],
   "source": [
    "# 4. 검정통계량 계산\n",
    "T = (A_mean - B_mean) / np.sqrt(var_pool*((1/A_n)+(1/B_n)))\n",
    "\n",
    "print(\"Test statistic :\", np.round(T, 4))"
   ]
  },
  {
   "cell_type": "code",
   "execution_count": 6,
   "id": "ac0aa0fa",
   "metadata": {},
   "outputs": [
    {
     "name": "stdout",
     "output_type": "stream",
     "text": [
      "LL and UL: -2.2281 2.2281\n"
     ]
    }
   ],
   "source": [
    "# 5. 임계치 구하기\n",
    "dist_t = stats.t(A_n + B_n - 2)\n",
    "\n",
    "ll = dist_t.ppf(alpha/2)\n",
    "ul = dist_t.ppf(1-alpha/2)\n",
    "\n",
    "print(\"LL and UL:\", round(ll,4), round(ul,4))"
   ]
  },
  {
   "cell_type": "code",
   "execution_count": 7,
   "id": "def0a674",
   "metadata": {},
   "outputs": [
    {
     "name": "stdout",
     "output_type": "stream",
     "text": [
      "Accept H0!\n"
     ]
    }
   ],
   "source": [
    "# 6. 결정하기\n",
    "if (np.abs(T)>ul):\n",
    "    print(\"Reject H0!\")\n",
    "else:\n",
    "    print(\"Accept H0!\")"
   ]
  },
  {
   "cell_type": "code",
   "execution_count": 8,
   "id": "fe1ff9d7",
   "metadata": {},
   "outputs": [
    {
     "data": {
      "text/plain": [
       "Ttest_indResult(statistic=0.12974982402692004, pvalue=0.8993371378609937)"
      ]
     },
     "execution_count": 8,
     "metadata": {},
     "output_type": "execute_result"
    }
   ],
   "source": [
    "# 7. 모듈 이용하기\n",
    "from scipy.stats import ttest_ind\n",
    "\n",
    "ttest_ind(A, B, equal_var=True)"
   ]
  },
  {
   "cell_type": "code",
   "execution_count": 9,
   "id": "dd0d1a41",
   "metadata": {},
   "outputs": [
    {
     "name": "stdout",
     "output_type": "stream",
     "text": [
      "Test ststistic : 0.1329\n",
      "P-value : 0.897\n",
      "degree of freedom:  9.4584\n"
     ]
    }
   ],
   "source": [
    "# 8. Welch's\n",
    "from statsmodels.stats.weightstats import ttest_ind\n",
    "\n",
    "t_val, p_val, df = ttest_ind(A, B, usevar=\"unequal\")\n",
    "\n",
    "print(\"Test ststistic :\", round(t_val, 4))\n",
    "print(\"P-value :\", round(p_val, 4))\n",
    "print(\"degree of freedom: \", round(df, 4))"
   ]
  },
  {
   "cell_type": "code",
   "execution_count": null,
   "id": "395bb7f1",
   "metadata": {},
   "outputs": [],
   "source": []
  }
 ],
 "metadata": {
  "kernelspec": {
   "display_name": "Python 3",
   "language": "python",
   "name": "python3"
  },
  "language_info": {
   "codemirror_mode": {
    "name": "ipython",
    "version": 3
   },
   "file_extension": ".py",
   "mimetype": "text/x-python",
   "name": "python",
   "nbconvert_exporter": "python",
   "pygments_lexer": "ipython3",
   "version": "3.8.8"
  }
 },
 "nbformat": 4,
 "nbformat_minor": 5
}
