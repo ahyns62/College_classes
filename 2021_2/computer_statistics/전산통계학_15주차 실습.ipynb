{
 "cells": [
  {
   "cell_type": "markdown",
   "id": "1ed7c813",
   "metadata": {},
   "source": [
    "**Situation - Chi square test for goodness of fit**\n",
    "파일에 존재하는 A,B,C가 0.2:0.5:0.3의 비율인지 유의수준 0.05에서 확인하시오."
   ]
  },
  {
   "cell_type": "code",
   "execution_count": 1,
   "id": "e6ff222c",
   "metadata": {},
   "outputs": [],
   "source": [
    "import numpy as np\n",
    "import pandas as pd\n",
    "from scipy import stats\n",
    "import matplotlib.pyplot as plt"
   ]
  },
  {
   "cell_type": "code",
   "execution_count": 2,
   "id": "c6699874",
   "metadata": {},
   "outputs": [],
   "source": [
    "# 1. 데이터 \n",
    "data1 = pd.read_csv(\"class1.csv\", header=0)"
   ]
  },
  {
   "cell_type": "code",
   "execution_count": 4,
   "id": "7c01efd5",
   "metadata": {},
   "outputs": [
    {
     "data": {
      "text/plain": [
       "B    260\n",
       "C    130\n",
       "A    110\n",
       "Name: class, dtype: int64"
      ]
     },
     "execution_count": 4,
     "metadata": {},
     "output_type": "execute_result"
    }
   ],
   "source": [
    "# 2. 관측 도수 구하기\n",
    "obs_freq = data1['class'].value_counts()\n",
    "obs_freq"
   ]
  },
  {
   "cell_type": "code",
   "execution_count": 5,
   "id": "15b95c4d",
   "metadata": {},
   "outputs": [
    {
     "data": {
      "text/plain": [
       "[250.0, 150.0, 100.0]"
      ]
     },
     "execution_count": 5,
     "metadata": {},
     "output_type": "execute_result"
    }
   ],
   "source": [
    "# 3. 기대 도수 구하기\n",
    "pop_0 = [0.5, 0.3, 0.2]\n",
    "n = np.sum(obs_freq)\n",
    "\n",
    "exp_freq = [n * j for j in pop_0]\n",
    "exp_freq"
   ]
  },
  {
   "cell_type": "code",
   "execution_count": 7,
   "id": "06d96ad1",
   "metadata": {},
   "outputs": [
    {
     "name": "stdout",
     "output_type": "stream",
     "text": [
      "test statistics:  4.067\n"
     ]
    }
   ],
   "source": [
    "# 4. 검정통계량 구하기\n",
    "T = np.sum((obs_freq-exp_freq)**2 / exp_freq)\n",
    "\n",
    "print(\"test statistics: \", round(T,3))"
   ]
  },
  {
   "cell_type": "code",
   "execution_count": 8,
   "id": "2c48cae1",
   "metadata": {},
   "outputs": [
    {
     "name": "stdout",
     "output_type": "stream",
     "text": [
      "Accept H0\n"
     ]
    }
   ],
   "source": [
    "# 5. 검정하기\n",
    "alpha = 0.05\n",
    "dist_chi = stats.chi2(2)\n",
    "\n",
    "ul = dist_chi.ppf(1-alpha)\n",
    "\n",
    "if (T>ul):\n",
    "    print(\"Reject H0\")\n",
    "else:\n",
    "    print(\"Accept H0\")"
   ]
  },
  {
   "cell_type": "code",
   "execution_count": 9,
   "id": "6b44c14b",
   "metadata": {},
   "outputs": [
    {
     "name": "stdout",
     "output_type": "stream",
     "text": [
      "Effect size:  0.064\n"
     ]
    }
   ],
   "source": [
    "# 6. Effect size\n",
    "eff_sizes = np.sqrt(T / (np.sum(n)*(len(exp_freq)-1)))\n",
    "\n",
    "print(\"Effect size: \", round(eff_sizes, 3))"
   ]
  },
  {
   "cell_type": "code",
   "execution_count": 10,
   "id": "904c971d",
   "metadata": {},
   "outputs": [
    {
     "name": "stdout",
     "output_type": "stream",
     "text": [
      "Test statistic:  4.067\n",
      "pvalue:  0.131\n"
     ]
    }
   ],
   "source": [
    "# 7. 모듈 이용하기\n",
    "T, pval = stats.chisquare(obs_freq, exp_freq)\n",
    "\n",
    "print(\"Test statistic: \", round(T,3))\n",
    "print(\"pvalue: \", round(pval, 3))"
   ]
  },
  {
   "cell_type": "code",
   "execution_count": null,
   "id": "f300e49c",
   "metadata": {},
   "outputs": [],
   "source": []
  }
 ],
 "metadata": {
  "kernelspec": {
   "display_name": "Python 3",
   "language": "python",
   "name": "python3"
  },
  "language_info": {
   "codemirror_mode": {
    "name": "ipython",
    "version": 3
   },
   "file_extension": ".py",
   "mimetype": "text/x-python",
   "name": "python",
   "nbconvert_exporter": "python",
   "pygments_lexer": "ipython3",
   "version": "3.8.8"
  }
 },
 "nbformat": 4,
 "nbformat_minor": 5
}
