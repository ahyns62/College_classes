{
 "cells": [
  {
   "cell_type": "markdown",
   "id": "45259177",
   "metadata": {},
   "source": [
    "**Situation - One proportional z-test** \n",
    "아래 표는 두 개의 반에서 오른손과 왼손 중 주로 사용하는 습관을 조사한 표이다."
   ]
  },
  {
   "cell_type": "code",
   "execution_count": 2,
   "id": "5511b3d0",
   "metadata": {},
   "outputs": [],
   "source": [
    "import numpy as np\n",
    "import pandas as pd\n",
    "from statsmodels.stats.proportion import proportions_ztest"
   ]
  },
  {
   "cell_type": "code",
   "execution_count": 4,
   "id": "fc89a4fd",
   "metadata": {},
   "outputs": [
    {
     "data": {
      "text/html": [
       "<div>\n",
       "<style scoped>\n",
       "    .dataframe tbody tr th:only-of-type {\n",
       "        vertical-align: middle;\n",
       "    }\n",
       "\n",
       "    .dataframe tbody tr th {\n",
       "        vertical-align: top;\n",
       "    }\n",
       "\n",
       "    .dataframe thead th {\n",
       "        text-align: right;\n",
       "    }\n",
       "</style>\n",
       "<table border=\"1\" class=\"dataframe\">\n",
       "  <thead>\n",
       "    <tr style=\"text-align: right;\">\n",
       "      <th>handed</th>\n",
       "      <th>L</th>\n",
       "      <th>R</th>\n",
       "      <th>Total</th>\n",
       "    </tr>\n",
       "    <tr>\n",
       "      <th>class</th>\n",
       "      <th></th>\n",
       "      <th></th>\n",
       "      <th></th>\n",
       "    </tr>\n",
       "  </thead>\n",
       "  <tbody>\n",
       "    <tr>\n",
       "      <th>A</th>\n",
       "      <td>9</td>\n",
       "      <td>43</td>\n",
       "      <td>52</td>\n",
       "    </tr>\n",
       "    <tr>\n",
       "      <th>B</th>\n",
       "      <td>4</td>\n",
       "      <td>44</td>\n",
       "      <td>48</td>\n",
       "    </tr>\n",
       "    <tr>\n",
       "      <th>Total</th>\n",
       "      <td>13</td>\n",
       "      <td>87</td>\n",
       "      <td>100</td>\n",
       "    </tr>\n",
       "  </tbody>\n",
       "</table>\n",
       "</div>"
      ],
      "text/plain": [
       "handed   L   R  Total\n",
       "class                \n",
       "A        9  43     52\n",
       "B        4  44     48\n",
       "Total   13  87    100"
      ]
     },
     "execution_count": 4,
     "metadata": {},
     "output_type": "execute_result"
    }
   ],
   "source": [
    "# 빈도수 구하기\n",
    "data1 = pd.read_csv(\"./onep.csv\")\n",
    "\n",
    "table1 = pd.crosstab(index = data1['class'], columns = data1['handed'],margins=True, margins_name='Total')\n",
    "table1"
   ]
  },
  {
   "cell_type": "code",
   "execution_count": 5,
   "id": "641c945b",
   "metadata": {},
   "outputs": [
    {
     "data": {
      "text/html": [
       "<div>\n",
       "<style scoped>\n",
       "    .dataframe tbody tr th:only-of-type {\n",
       "        vertical-align: middle;\n",
       "    }\n",
       "\n",
       "    .dataframe tbody tr th {\n",
       "        vertical-align: top;\n",
       "    }\n",
       "\n",
       "    .dataframe thead th {\n",
       "        text-align: right;\n",
       "    }\n",
       "</style>\n",
       "<table border=\"1\" class=\"dataframe\">\n",
       "  <thead>\n",
       "    <tr style=\"text-align: right;\">\n",
       "      <th>handed</th>\n",
       "      <th>L</th>\n",
       "      <th>R</th>\n",
       "    </tr>\n",
       "    <tr>\n",
       "      <th>class</th>\n",
       "      <th></th>\n",
       "      <th></th>\n",
       "    </tr>\n",
       "  </thead>\n",
       "  <tbody>\n",
       "    <tr>\n",
       "      <th>A</th>\n",
       "      <td>0.173077</td>\n",
       "      <td>0.826923</td>\n",
       "    </tr>\n",
       "    <tr>\n",
       "      <th>B</th>\n",
       "      <td>0.083333</td>\n",
       "      <td>0.916667</td>\n",
       "    </tr>\n",
       "    <tr>\n",
       "      <th>Total</th>\n",
       "      <td>0.130000</td>\n",
       "      <td>0.870000</td>\n",
       "    </tr>\n",
       "  </tbody>\n",
       "</table>\n",
       "</div>"
      ],
      "text/plain": [
       "handed         L         R\n",
       "class                     \n",
       "A       0.173077  0.826923\n",
       "B       0.083333  0.916667\n",
       "Total   0.130000  0.870000"
      ]
     },
     "execution_count": 5,
     "metadata": {},
     "output_type": "execute_result"
    }
   ],
   "source": [
    "# Percentage 구하기\n",
    "table2 = pd.crosstab(index = data1['class'], columns = data1['handed'],margins=True, margins_name='Total', normalize='index')\n",
    "\n",
    "table2"
   ]
  },
  {
   "cell_type": "code",
   "execution_count": 6,
   "id": "4c704635",
   "metadata": {},
   "outputs": [
    {
     "data": {
      "text/html": [
       "<div>\n",
       "<style scoped>\n",
       "    .dataframe tbody tr th:only-of-type {\n",
       "        vertical-align: middle;\n",
       "    }\n",
       "\n",
       "    .dataframe tbody tr th {\n",
       "        vertical-align: top;\n",
       "    }\n",
       "\n",
       "    .dataframe thead th {\n",
       "        text-align: right;\n",
       "    }\n",
       "</style>\n",
       "<table border=\"1\" class=\"dataframe\">\n",
       "  <thead>\n",
       "    <tr style=\"text-align: right;\">\n",
       "      <th>handed</th>\n",
       "      <th>L</th>\n",
       "      <th>R</th>\n",
       "      <th>Total</th>\n",
       "    </tr>\n",
       "    <tr>\n",
       "      <th>class</th>\n",
       "      <th></th>\n",
       "      <th></th>\n",
       "      <th></th>\n",
       "    </tr>\n",
       "  </thead>\n",
       "  <tbody>\n",
       "    <tr>\n",
       "      <th>A</th>\n",
       "      <td>0.692308</td>\n",
       "      <td>0.494253</td>\n",
       "      <td>0.52</td>\n",
       "    </tr>\n",
       "    <tr>\n",
       "      <th>B</th>\n",
       "      <td>0.307692</td>\n",
       "      <td>0.505747</td>\n",
       "      <td>0.48</td>\n",
       "    </tr>\n",
       "  </tbody>\n",
       "</table>\n",
       "</div>"
      ],
      "text/plain": [
       "handed         L         R  Total\n",
       "class                            \n",
       "A       0.692308  0.494253   0.52\n",
       "B       0.307692  0.505747   0.48"
      ]
     },
     "execution_count": 6,
     "metadata": {},
     "output_type": "execute_result"
    }
   ],
   "source": [
    "table3 = pd.crosstab(index = data1['class'], columns = data1['handed'],margins=True, margins_name='Total', normalize='columns')\n",
    "\n",
    "table3"
   ]
  },
  {
   "cell_type": "code",
   "execution_count": 7,
   "id": "087479ba",
   "metadata": {},
   "outputs": [
    {
     "data": {
      "text/html": [
       "<div>\n",
       "<style scoped>\n",
       "    .dataframe tbody tr th:only-of-type {\n",
       "        vertical-align: middle;\n",
       "    }\n",
       "\n",
       "    .dataframe tbody tr th {\n",
       "        vertical-align: top;\n",
       "    }\n",
       "\n",
       "    .dataframe thead th {\n",
       "        text-align: right;\n",
       "    }\n",
       "</style>\n",
       "<table border=\"1\" class=\"dataframe\">\n",
       "  <thead>\n",
       "    <tr style=\"text-align: right;\">\n",
       "      <th>handed</th>\n",
       "      <th>L</th>\n",
       "      <th>R</th>\n",
       "      <th>Total</th>\n",
       "    </tr>\n",
       "    <tr>\n",
       "      <th>class</th>\n",
       "      <th></th>\n",
       "      <th></th>\n",
       "      <th></th>\n",
       "    </tr>\n",
       "  </thead>\n",
       "  <tbody>\n",
       "    <tr>\n",
       "      <th>A</th>\n",
       "      <td>0.09</td>\n",
       "      <td>0.43</td>\n",
       "      <td>0.52</td>\n",
       "    </tr>\n",
       "    <tr>\n",
       "      <th>B</th>\n",
       "      <td>0.04</td>\n",
       "      <td>0.44</td>\n",
       "      <td>0.48</td>\n",
       "    </tr>\n",
       "    <tr>\n",
       "      <th>Total</th>\n",
       "      <td>0.13</td>\n",
       "      <td>0.87</td>\n",
       "      <td>1.00</td>\n",
       "    </tr>\n",
       "  </tbody>\n",
       "</table>\n",
       "</div>"
      ],
      "text/plain": [
       "handed     L     R  Total\n",
       "class                    \n",
       "A       0.09  0.43   0.52\n",
       "B       0.04  0.44   0.48\n",
       "Total   0.13  0.87   1.00"
      ]
     },
     "execution_count": 7,
     "metadata": {},
     "output_type": "execute_result"
    }
   ],
   "source": [
    "# 과제2 - (1)\n",
    "table4 = pd.crosstab(index = data1['class'], columns = data1['handed'],margins=True, margins_name='Total', normalize='all')\n",
    "\n",
    "table4"
   ]
  },
  {
   "cell_type": "markdown",
   "id": "2e4524d2",
   "metadata": {},
   "source": [
    "**Situation2**\n",
    "한 조사에 의하면, 의사 10명 중 9명이 두통에 아스피린을 추천하였다."
   ]
  },
  {
   "cell_type": "code",
   "execution_count": 8,
   "id": "b9f7d7ce",
   "metadata": {},
   "outputs": [
    {
     "name": "stdout",
     "output_type": "stream",
     "text": [
      "H0: 90% of doctors recommend Aspirin for headache\n",
      "H1: 90% of doctors do not recommend Aspirin for headache\n"
     ]
    }
   ],
   "source": [
    "# 과제2 - (2)\n",
    "# 가설설정\n",
    "print(\"H0: 90% of doctors recommend Aspirin for headache\")\n",
    "print(\"H1: 90% of doctors do not recommend Aspirin for headache\")"
   ]
  },
  {
   "cell_type": "code",
   "execution_count": 9,
   "id": "f047144d",
   "metadata": {},
   "outputs": [
    {
     "name": "stdout",
     "output_type": "stream",
     "text": [
      "Z statistic:  -2.0823\n",
      "p value:  0.0373\n"
     ]
    }
   ],
   "source": [
    "# 검정하기\n",
    "pop_0 = 0.9\n",
    "\n",
    "n = 100\n",
    "yes = 82\n",
    "p_hat = yes/n\n",
    "\n",
    "Zstat, pval = proportions_ztest(count=yes, nobs=n, value=pop_0)\n",
    "\n",
    "print(\"Z statistic: \", round(Zstat, 4))\n",
    "print(\"p value: \", round(pval, 4))"
   ]
  },
  {
   "cell_type": "code",
   "execution_count": 10,
   "id": "894a04fd",
   "metadata": {},
   "outputs": [
    {
     "name": "stdout",
     "output_type": "stream",
     "text": [
      "Effect size: 0.26666666666666694\n"
     ]
    }
   ],
   "source": [
    "# Effect size\n",
    "a = np.abs(p_hat - pop_0) / np.sqrt(pop_0 * (1 - pop_0))\n",
    "print(\"Effect size:\", a)"
   ]
  },
  {
   "cell_type": "code",
   "execution_count": null,
   "id": "526844d8",
   "metadata": {},
   "outputs": [],
   "source": []
  }
 ],
 "metadata": {
  "kernelspec": {
   "display_name": "Python 3",
   "language": "python",
   "name": "python3"
  },
  "language_info": {
   "codemirror_mode": {
    "name": "ipython",
    "version": 3
   },
   "file_extension": ".py",
   "mimetype": "text/x-python",
   "name": "python",
   "nbconvert_exporter": "python",
   "pygments_lexer": "ipython3",
   "version": "3.8.8"
  }
 },
 "nbformat": 4,
 "nbformat_minor": 5
}
