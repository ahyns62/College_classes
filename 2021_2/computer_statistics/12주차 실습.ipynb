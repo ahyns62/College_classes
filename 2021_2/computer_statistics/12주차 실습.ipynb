{
 "cells": [
  {
   "cell_type": "markdown",
   "id": "0364e103",
   "metadata": {},
   "source": [
    "**Situation - ANOVA** \n",
    "Anti-anxiety 약에 대한 3가지 표본에 대한 평균의 차이를 검정하고자 한다.\n",
    "세가지 조건 간의 차이가 있다고 할 수 있을까? 유의 수준 5%에서 검정하시오."
   ]
  },
  {
   "cell_type": "code",
   "execution_count": 1,
   "id": "a6bcea83",
   "metadata": {},
   "outputs": [],
   "source": [
    "import numpy as np\n",
    "import pandas as pd\n",
    "from scipy import stats\n",
    "from matplotlib import pyplot as plt"
   ]
  },
  {
   "cell_type": "code",
   "execution_count": 2,
   "id": "7c422ff9",
   "metadata": {},
   "outputs": [
    {
     "name": "stdout",
     "output_type": "stream",
     "text": [
      "H0: These samples are from the same population\n",
      "H1: Not all samples are from the same population\n"
     ]
    }
   ],
   "source": [
    "# 1. 가설 설정\n",
    "print(\"H0: These samples are from the same population\")\n",
    "print(\"H1: Not all samples are from the same population\")"
   ]
  },
  {
   "cell_type": "code",
   "execution_count": 3,
   "id": "0e0efa55",
   "metadata": {},
   "outputs": [],
   "source": [
    "# 2. Data 입력\n",
    "group_0 = [9,8,7,8,8,9,8]\n",
    "group_50 = [7,6,6,7,8,7,6]\n",
    "group_100 = [4,3,2,3,4,3,2]\n",
    "group_all = group_0 + group_50 + group_100"
   ]
  },
  {
   "cell_type": "code",
   "execution_count": 4,
   "id": "0f7156d4",
   "metadata": {},
   "outputs": [
    {
     "name": "stdout",
     "output_type": "stream",
     "text": [
      "The samples have the same variance\n"
     ]
    }
   ],
   "source": [
    "# 3. Levene's test: 분산이 서로 동일한지 검정\n",
    "\n",
    "levene_pval, W_stat = stats.levene(group_0, group_50, group_100)\n",
    "\n",
    "alpha = 0.05\n",
    "if levene_pval < alpha:\n",
    "    print(\"The samples don't have the same variance\")\n",
    "else:\n",
    "    print(\"The samples have the same variance\")"
   ]
  },
  {
   "cell_type": "code",
   "execution_count": 5,
   "id": "7954a7f2",
   "metadata": {},
   "outputs": [
    {
     "name": "stdout",
     "output_type": "stream",
     "text": [
      "MSb: 49.33333333333333\n",
      "MSw: 0.5714285714285714\n",
      "Test statistic, F : 86.33333333333333\n"
     ]
    }
   ],
   "source": [
    "# 4. 검정 통계량 계산\n",
    "mean_all = np.mean(group_all)\n",
    "\n",
    "#MSb computation\n",
    "ssb = sum([len(i)*(np.mean(i)-mean_all)**2 for i in [group_0, group_50, group_100]])\n",
    "MSb = ssb/(3-1)\n",
    "\n",
    "print(\"MSb: {}\".format(MSb))\n",
    "\n",
    "#MSw computation\n",
    "ssw = sum([(len(i)-1)*np.var(i,ddof=1) for i in [group_0, group_50, group_100]])\n",
    "dfw = sum([len(i)-1 for i in [group_0, group_50, group_100]])\n",
    "MSw = ssw/dfw\n",
    "\n",
    "print(\"MSw: {}\".format(MSw))\n",
    "\n",
    "F = MSb/MSw\n",
    "print(\"Test statistic, F : {}\".format(F))"
   ]
  },
  {
   "cell_type": "code",
   "execution_count": 9,
   "id": "17aa2bb6",
   "metadata": {},
   "outputs": [
    {
     "name": "stdout",
     "output_type": "stream",
     "text": [
      "critical value : 3.554557145661787\n",
      "We can reject H0\n"
     ]
    }
   ],
   "source": [
    "# 5. 임계치를 통해 판정\n",
    "f_dist = stats.f(2, dfw)\n",
    "alpha=0.05\n",
    "\n",
    "rl = f_dist.ppf(1-alpha)\n",
    "print(\"critical value : {}\".format(rl))\n",
    "\n",
    "if F > rl:\n",
    "    print(\"We can reject H0\")\n",
    "else:\n",
    "    print(\"We can accept H0\")"
   ]
  },
  {
   "cell_type": "code",
   "execution_count": 10,
   "id": "9d75b9f8",
   "metadata": {},
   "outputs": [
    {
     "name": "stdout",
     "output_type": "stream",
     "text": [
      "test statistic F:86.3333333333334\n",
      "p-value : 5.956341358737431e-10\n"
     ]
    }
   ],
   "source": [
    "# 6. 모듈 이용하기\n",
    "f_stat, p_val = stats.f_oneway(group_0, group_50, group_100)\n",
    "\n",
    "print(\"test statistic F:{}\".format(f_stat))\n",
    "print(\"p-value : {}\".format(p_val))"
   ]
  },
  {
   "cell_type": "code",
   "execution_count": 11,
   "id": "743cf2c8",
   "metadata": {},
   "outputs": [
    {
     "name": "stdout",
     "output_type": "stream",
     "text": [
      "Effect size:  0.9056\n"
     ]
    }
   ],
   "source": [
    "# 7. 효과 크기\n",
    "eta2 = ssb / (ssb+ssw)\n",
    "\n",
    "print(\"Effect size: \", round(eta2, 4))"
   ]
  },
  {
   "cell_type": "code",
   "execution_count": null,
   "id": "b6dca658",
   "metadata": {},
   "outputs": [],
   "source": []
  }
 ],
 "metadata": {
  "kernelspec": {
   "display_name": "Python 3",
   "language": "python",
   "name": "python3"
  },
  "language_info": {
   "codemirror_mode": {
    "name": "ipython",
    "version": 3
   },
   "file_extension": ".py",
   "mimetype": "text/x-python",
   "name": "python",
   "nbconvert_exporter": "python",
   "pygments_lexer": "ipython3",
   "version": "3.8.8"
  }
 },
 "nbformat": 4,
 "nbformat_minor": 5
}
