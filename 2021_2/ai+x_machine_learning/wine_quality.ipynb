{
  "nbformat": 4,
  "nbformat_minor": 0,
  "metadata": {
    "colab": {
      "name": "Week7_lab.ipynb",
      "provenance": [],
      "collapsed_sections": []
    },
    "kernelspec": {
      "name": "python3",
      "display_name": "Python 3"
    }
  },
  "cells": [
    {
      "cell_type": "code",
      "metadata": {
        "id": "q95QsjgRK0BV"
      },
      "source": [
        "import pandas as pd\n",
        "\n",
        "red_wine = pd.read_csv('./winequality-red.csv', sep = ';')\n",
        "white_wine = pd.read_csv('./winequality-white.csv', sep = ';')"
      ],
      "execution_count": null,
      "outputs": []
    },
    {
      "cell_type": "code",
      "metadata": {
        "id": "zvset3y-Mz5o"
      },
      "source": [
        "red_wine.head()"
      ],
      "execution_count": null,
      "outputs": []
    },
    {
      "cell_type": "code",
      "metadata": {
        "id": "Ao6H-vUjNVSY"
      },
      "source": [
        "white_wine.head() "
      ],
      "execution_count": null,
      "outputs": []
    },
    {
      "cell_type": "code",
      "metadata": {
        "id": "4XtbdPDoTlPu"
      },
      "source": [
        "white_wine.columns"
      ],
      "execution_count": null,
      "outputs": []
    },
    {
      "cell_type": "code",
      "metadata": {
        "id": "1INzZA3kTypI"
      },
      "source": [
        "red_wine['color'] = 1\n",
        "red_wine.head()"
      ],
      "execution_count": null,
      "outputs": []
    },
    {
      "cell_type": "code",
      "metadata": {
        "id": "bREyikgYV-sv"
      },
      "source": [
        "white_wine['color'] = 0\n",
        "white_wine.head()"
      ],
      "execution_count": null,
      "outputs": []
    },
    {
      "cell_type": "code",
      "metadata": {
        "id": "rjncuboYWH1w"
      },
      "source": [
        "wine = pd.concat([red_wine, white_wine])\n",
        "wine.info()"
      ],
      "execution_count": null,
      "outputs": []
    },
    {
      "cell_type": "code",
      "metadata": {
        "id": "p0f7NdouXuML"
      },
      "source": [
        "wine['quality'].unique()"
      ],
      "execution_count": null,
      "outputs": []
    },
    {
      "cell_type": "code",
      "metadata": {
        "id": "mg7vw2jockQi"
      },
      "source": [
        "import matplotlib.pyplot as plt\n",
        "\n",
        "plt.figure(figsize = (8, 6))\n",
        "plt.hist(wine['quality'], bins = 6, facecolor = 'blue', alpha = 0.5)\n",
        "plt.show()"
      ],
      "execution_count": null,
      "outputs": []
    },
    {
      "cell_type": "code",
      "metadata": {
        "id": "fRu85P9Xc9QT"
      },
      "source": [
        "wine['quality'].value_counts()"
      ],
      "execution_count": null,
      "outputs": []
    },
    {
      "cell_type": "code",
      "metadata": {
        "id": "ppU3raX7df-w"
      },
      "source": [
        "wine.to_csv('./wine.csv', sep =',')"
      ],
      "execution_count": null,
      "outputs": []
    },
    {
      "cell_type": "code",
      "metadata": {
        "id": "jY23FRCydsH5"
      },
      "source": [
        "!ls"
      ],
      "execution_count": null,
      "outputs": []
    },
    {
      "cell_type": "code",
      "metadata": {
        "id": "ndnP7UAyd0yx"
      },
      "source": [
        "wine = pd.read_csv('./wine.csv', sep = ',', index_col =0)\n",
        "wine.head()"
      ],
      "execution_count": null,
      "outputs": []
    },
    {
      "cell_type": "code",
      "metadata": {
        "id": "1AiIxSYGe_y0"
      },
      "source": [
        "wine['color'].value_counts()"
      ],
      "execution_count": null,
      "outputs": []
    },
    {
      "cell_type": "code",
      "metadata": {
        "id": "LnvKek3sejg9"
      },
      "source": [
        "y = wine['color']\n",
        "X = wine.drop(['color'], axis = 1)\n",
        "\n",
        "X.head()"
      ],
      "execution_count": null,
      "outputs": []
    },
    {
      "cell_type": "code",
      "metadata": {
        "id": "e6XJksmCfNBu"
      },
      "source": [
        "from sklearn.model_selection import train_test_split\n",
        "\n",
        "X_train, X_test, y_train, y_test = \\\n",
        "train_test_split(X, y, test_size = 0.2, random_state = 13)"
      ],
      "execution_count": null,
      "outputs": []
    },
    {
      "cell_type": "code",
      "metadata": {
        "id": "I_k3glB0fmZj"
      },
      "source": [
        "import numpy as np\n",
        "\n",
        "np.unique(y_train, return_counts = True)"
      ],
      "execution_count": null,
      "outputs": []
    },
    {
      "cell_type": "code",
      "metadata": {
        "id": "r7gIm2IsfwPG"
      },
      "source": [
        "from sklearn.linear_model import LogisticRegression\n",
        "\n",
        "log_reg = LogisticRegression(random_state = 13, solver = 'liblinear', C = 10.)\n",
        "log_reg.fit(X_train, y_train)"
      ],
      "execution_count": null,
      "outputs": []
    },
    {
      "cell_type": "code",
      "metadata": {
        "id": "eT0erkRphiUT"
      },
      "source": [
        "from sklearn.metrics import accuracy_score\n",
        "\n",
        "pred = log_reg.predict(X_train)\n",
        "accuracy_score(y_train, pred)"
      ],
      "execution_count": null,
      "outputs": []
    },
    {
      "cell_type": "code",
      "metadata": {
        "id": "ahZrwPbJh7sV"
      },
      "source": [
        "pred = log_reg.predict(X_test)\n",
        "accuracy_score(y_test, pred)"
      ],
      "execution_count": null,
      "outputs": []
    },
    {
      "cell_type": "code",
      "metadata": {
        "id": "v62z7O0Jim-4"
      },
      "source": [
        "from sklearn.metrics import confusion_matrix\n",
        "confusion_matrix(y_test, pred)"
      ],
      "execution_count": null,
      "outputs": []
    },
    {
      "cell_type": "code",
      "metadata": {
        "id": "eIaSVdeekGRV"
      },
      "source": [
        "import seaborn as sns\n",
        "sns.boxplot(data = X[['fixed acidity', 'chlorides', 'quality']])"
      ],
      "execution_count": null,
      "outputs": []
    },
    {
      "cell_type": "code",
      "metadata": {
        "id": "5tdZrtTzkbsr"
      },
      "source": [
        "from sklearn.preprocessing import MinMaxScaler, StandardScaler\n",
        "\n",
        "MMS = MinMaxScaler()\n",
        "SS = StandardScaler()\n",
        "\n",
        "MMS.fit(X)\n",
        "SS.fit(X)\n",
        "\n",
        "X_mms = MMS.transform(X)\n",
        "X_ss = SS.transform(X)\n"
      ],
      "execution_count": null,
      "outputs": []
    },
    {
      "cell_type": "code",
      "metadata": {
        "id": "wxlnq841lb9p"
      },
      "source": [
        "X_ss_pd = pd.DataFrame(X_ss, columns = X.columns)\n",
        "X_mms_pd = pd.DataFrame(X_mms, columns = X.columns)"
      ],
      "execution_count": null,
      "outputs": []
    },
    {
      "cell_type": "code",
      "metadata": {
        "id": "U5vc853KmN1p"
      },
      "source": [
        "sns.boxplot(data = X_mms_pd[['fixed acidity', 'chlorides', 'quality']])"
      ],
      "execution_count": null,
      "outputs": []
    },
    {
      "cell_type": "code",
      "metadata": {
        "id": "bmfzSnohmbUV"
      },
      "source": [
        "X_out = X_mms_pd\n",
        "X_train, X_test, y_train, y_test = \\\n",
        "train_test_split(X_out, y, test_size = 0.2, random_state = 13)\n",
        "\n",
        "log_reg = LogisticRegression(random_state = 13, solver = 'liblinear', C = 10.)\n",
        "log_reg.fit(X_train, y_train)\n",
        "\n",
        "pred = log_reg.predict(X_test)\n",
        "accuracy_score(y_test, pred)"
      ],
      "execution_count": null,
      "outputs": []
    },
    {
      "cell_type": "code",
      "metadata": {
        "id": "K1fWF2svoI79"
      },
      "source": [
        "X_out = X_ss_pd\n",
        "X_train, X_test, y_train, y_test = \\\n",
        "train_test_split(X_out, y, test_size = 0.2, random_state = 13)\n",
        "\n",
        "log_reg = LogisticRegression(random_state = 13, solver = 'liblinear', C = 10.)\n",
        "log_reg.fit(X_train, y_train)\n",
        "\n",
        "pred = log_reg.predict(X_test)\n",
        "accuracy_score(y_test, pred)"
      ],
      "execution_count": null,
      "outputs": []
    },
    {
      "cell_type": "code",
      "metadata": {
        "id": "6KOj4E0aoQ0Z"
      },
      "source": [
        "from sklearn.tree import DecisionTreeClassifier\n",
        "\n",
        "tree_clf = DecisionTreeClassifier(max_depth = 2, random_state = 13)\n",
        "tree_clf.fit(X_train, y_train)"
      ],
      "execution_count": null,
      "outputs": []
    },
    {
      "cell_type": "code",
      "metadata": {
        "id": "g3AdbH6MoywR"
      },
      "source": [
        "pred = tree_clf.predict(X_train)\n",
        "accuracy_score(y_train, pred)"
      ],
      "execution_count": null,
      "outputs": []
    },
    {
      "cell_type": "code",
      "metadata": {
        "id": "ilKL8710o88t"
      },
      "source": [
        "pred = tree_clf.predict(X_test)\n",
        "accuracy_score(y_test, pred)"
      ],
      "execution_count": null,
      "outputs": []
    },
    {
      "cell_type": "code",
      "metadata": {
        "id": "YNLPY74UpL8q"
      },
      "source": [
        "from graphviz import Source\n",
        "from sklearn.tree import export_graphviz\n",
        "\n",
        "Source(export_graphviz(tree_clf, feature_names = X_train.columns,\n",
        "                       class_names = ['W', 'R'],\n",
        "                       rounded = True, filled = True))"
      ],
      "execution_count": null,
      "outputs": []
    },
    {
      "cell_type": "code",
      "metadata": {
        "id": "XjvqHhADpkkl"
      },
      "source": [
        ""
      ],
      "execution_count": null,
      "outputs": []
    }
  ]
}